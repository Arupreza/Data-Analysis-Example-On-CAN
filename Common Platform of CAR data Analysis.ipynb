{
 "cells": [
  {
   "cell_type": "code",
   "execution_count": 2,
   "id": "3418837f",
   "metadata": {},
   "outputs": [],
   "source": [
    "#Import Required Libraries\n",
    "import tensorflow as tf\n",
    "import pandas as pd\n",
    "import numpy as np\n",
    "import seaborn as sns\n",
    "from matplotlib import pyplot as plt\n",
    "from matplotlib.pyplot import figure\n",
    "from pandas import ExcelWriter\n",
    "from pandas import ExcelFile\n",
    "import glob\n",
    "from termcolor import colored\n",
    "%matplotlib inline"
   ]
  },
  {
   "cell_type": "code",
   "execution_count": 3,
   "id": "657fca78",
   "metadata": {},
   "outputs": [],
   "source": [
    "#pip install termcolor"
   ]
  },
  {
   "cell_type": "markdown",
   "id": "41d01cc5",
   "metadata": {},
   "source": [
    "# Data Upload"
   ]
  },
  {
   "cell_type": "code",
   "execution_count": 4,
   "id": "e4d4f033",
   "metadata": {},
   "outputs": [
    {
     "name": "stdout",
     "output_type": "stream",
     "text": [
      "\u001b[1m\u001b[34mTotal Amount of Data: \u001b[0m 1303127\n"
     ]
    }
   ],
   "source": [
    "Car_Data_Frame = pd.read_csv(\"2022.03.10 C-CAN 구쏘울 정상.trc\", encoding='cp949')\n",
    "Car_Data_Frame = Car_Data_Frame['CAN_Data'].str.split('Rx         ',n=1,expand=True)\n",
    "Car_Data_Frame = Car_Data_Frame.rename(columns={0:'Time', 1:'Payload'})\n",
    "\n",
    "#Splitting Time\n",
    "Car_Data_Frame_Time = Car_Data_Frame['Time'].str.split(')',n=2,expand=True)\n",
    "Car_Data_Frame_Time = Car_Data_Frame_Time.rename(columns={0:'Serial', 1:'Time'})\n",
    "Car_Data_Frame_Time = Car_Data_Frame_Time.Time.astype(float)\n",
    "Car_Data_Frame_Time = pd.DataFrame(Car_Data_Frame_Time).rename(columns={0:'Time'})\n",
    "\n",
    "#Splitting Payload\n",
    "Car_Data_Frame_Time_ID = Car_Data_Frame['Payload'].str.split('  ',n=2,expand=True)\n",
    "Car_Data_Frame_Time_ID = Car_Data_Frame_Time_ID.rename(columns={0:'CAN_ID', 1:'DLC', 2:'Payload_8_hex'})\n",
    "\n",
    "#Splitting Payload with each PID\n",
    "Car_Data_Frame_Time_Payload_hex = Car_Data_Frame_Time_ID['Payload_8_hex'].str.split(' ',n=7,expand=True)\n",
    "Car_Data_Frame_Time_Payload_hex = Car_Data_Frame_Time_Payload_hex.rename(\n",
    "    columns={0:'One', 1:'Two', 2:'Three', 3:'Four', 4:'Five', 5:'Six', 6:'Seven', 7:'Eight'})\n",
    "\n",
    "#Joind all data set\n",
    "Car_Data_Frame = pd.concat([pd.DataFrame(Car_Data_Frame_Time), pd.DataFrame(Car_Data_Frame_Time_ID), \n",
    "                            pd.DataFrame(Car_Data_Frame_Time_Payload_hex)], axis=1)\n",
    "Car_Data_Frame = Car_Data_Frame.sort_values(['Time'], ignore_index = True)\n",
    "\n",
    "#Time Gap Calculation (Full_Data_Time_Gap)\n",
    "Time_gap = [0]\n",
    "k4 = 1\n",
    "lenth = len(Car_Data_Frame)-1\n",
    "\n",
    "for k in Car_Data_Frame.Time:\n",
    "    k2 = float(Car_Data_Frame.Time[k4]) - float(k)\n",
    "    Time_gap.append(k2)\n",
    "    if k4 >= lenth:\n",
    "        break\n",
    "    k4 = k4 + 1\n",
    "\n",
    "#Joind with time gap\n",
    "Car_Data_Frame = pd.concat([pd.DataFrame(Car_Data_Frame), pd.DataFrame(Time_gap)], axis=1)\n",
    "Car_Data_Frame = Car_Data_Frame.rename(columns={0:'Full_Data_Time_Gap'})\n",
    "print(colored('Total Amount of Data: ', 'blue', attrs=['bold']),len(Car_Data_Frame))"
   ]
  },
  {
   "cell_type": "markdown",
   "id": "1fd25efe",
   "metadata": {},
   "source": [
    "# Overall Time Gap Change In Full Data Set"
   ]
  },
  {
   "cell_type": "code",
   "execution_count": 5,
   "id": "e0ac403b",
   "metadata": {},
   "outputs": [
    {
     "data": {
      "text/plain": [
       "Text(0.5, 1.0, 'Data Cangeing Pattern According to Time Gap')"
      ]
     },
     "execution_count": 5,
     "metadata": {},
     "output_type": "execute_result"
    },
    {
     "data": {
      "image/png": "[encoded data removed]",
      "text/plain": [
       "<Figure size 864x720 with 1 Axes>"
      ]
     },
     "metadata": {
      "needs_background": "light"
     },
     "output_type": "display_data"
    }
   ],
   "source": [
    "plt.subplots(figsize = (12, 10))\n",
    "plt.plot(Car_Data_Frame['Full_Data_Time_Gap'])\n",
    "plt.xlabel(\"Data Length\", fontsize=15,  weight='bold')\n",
    "plt.ylabel(\"Time Gap in Miliseconds\", fontsize=15,  weight='bold')\n",
    "plt.title(\"Data Cangeing Pattern According to Time Gap\", fontsize=15,  weight='bold')"
   ]
  },
  {
   "cell_type": "code",
   "execution_count": null,
   "id": "e8d7af87",
   "metadata": {},
   "outputs": [],
   "source": []
  },
  {
   "cell_type": "markdown",
   "id": "2e45b3ed",
   "metadata": {},
   "source": [
    "# Data Sliceing"
   ]
  },
  {
   "cell_type": "code",
   "execution_count": 552,
   "id": "ca6c871d",
   "metadata": {},
   "outputs": [],
   "source": [
    "lower_limit = 230000 #Parameter Input lower value\n",
    "upper_limit = 330000 #Parameter Input higher value\n",
    "column = 'Full_Data_Time_Gap' #Selecting the column"
   ]
  },
  {
   "cell_type": "code",
   "execution_count": 553,
   "id": "01398db7",
   "metadata": {},
   "outputs": [
    {
     "data": {
      "text/plain": [
       "230000    0.3\n",
       "230001    0.2\n",
       "230002    0.2\n",
       "230003    0.3\n",
       "230004    0.2\n",
       "         ... \n",
       "329995    0.2\n",
       "329996    0.2\n",
       "329997    0.2\n",
       "329998    0.3\n",
       "329999    0.3\n",
       "Name: Full_Data_Time_Gap, Length: 100000, dtype: float64"
      ]
     },
     "execution_count": 553,
     "metadata": {},
     "output_type": "execute_result"
    }
   ],
   "source": [
    "Car_Data_Frame[column][lower_limit:upper_limit]"
   ]
  },
  {
   "cell_type": "code",
   "execution_count": 554,
   "id": "a81a739c",
   "metadata": {},
   "outputs": [
    {
     "data": {
      "text/plain": [
       "Text(0.5, 1.0, 'Sliced Data Cangeing Pattern According to Time Gap')"
      ]
     },
     "execution_count": 554,
     "metadata": {},
     "output_type": "execute_result"
    },
    {
     "data": {
      "image/png": "[encoded data removed]",
      "text/plain": [
       "<Figure size 864x720 with 1 Axes>"
      ]
     },
     "metadata": {
      "needs_background": "light"
     },
     "output_type": "display_data"
    }
   ],
   "source": [
    "plt.subplots(figsize = (12, 10))\n",
    "plt.plot(Car_Data_Frame[column][lower_limit:upper_limit])\n",
    "plt.xlabel(\"Data Length\", fontsize=15,  weight='bold')\n",
    "plt.ylabel(\"Time Gap in Miliseconds\", fontsize=15,  weight='bold')\n",
    "plt.title(\"Sliced Data Cangeing Pattern According to Time Gap\", fontsize=15,  weight='bold')"
   ]
  },
  {
   "cell_type": "code",
   "execution_count": null,
   "id": "606308cf",
   "metadata": {},
   "outputs": [],
   "source": []
  },
  {
   "cell_type": "code",
   "execution_count": null,
   "id": "9257609c",
   "metadata": {},
   "outputs": [],
   "source": []
  },
  {
   "cell_type": "markdown",
   "id": "140a1704",
   "metadata": {},
   "source": [
    "# ID Details"
   ]
  },
  {
   "cell_type": "code",
   "execution_count": 6,
   "id": "936bba5c",
   "metadata": {},
   "outputs": [
    {
     "name": "stdout",
     "output_type": "stream",
     "text": [
      "\u001b[1m\u001b[34mAll CAN ID List: \n",
      "\n",
      "\u001b[0m ['0018' '0034' '0042' '0043' '0044' '0050' '0080' '0081' '00A0' '00A1'\n",
      " '0110' '0120' '0153' '0164' '0165' '018F' '01F1' '0220' '0260' '02A0'\n",
      " '02B0' '02C0' '0316' '0329' '0350' '0370' '0382' '043F' '0440' '04B0'\n",
      " '04B1' '04F0' '04F1' '04F2' '0510' '0517' '051A' '0545' '0587' '059B'\n",
      " '05A0' '05A2' '05E4' '05F0' '0690']\n",
      "\n",
      "\n",
      "\u001b[1m\u001b[31mTotal Amount of CAN ID: \u001b[0m 45\n"
     ]
    }
   ],
   "source": [
    "print((colored('All CAN ID List: \\n\\n', 'blue', attrs=['bold'])),np.unique(Car_Data_Frame.CAN_ID))\n",
    "print('\\n')\n",
    "print(colored('Total Amount of CAN ID: ', 'red', attrs=['bold']),len(np.unique(Car_Data_Frame.CAN_ID)))"
   ]
  },
  {
   "cell_type": "code",
   "execution_count": null,
   "id": "79953ed5",
   "metadata": {},
   "outputs": [],
   "source": []
  },
  {
   "cell_type": "code",
   "execution_count": null,
   "id": "004a0dc0",
   "metadata": {},
   "outputs": [],
   "source": []
  },
  {
   "cell_type": "code",
   "execution_count": null,
   "id": "e0af64ff",
   "metadata": {},
   "outputs": [],
   "source": []
  },
  {
   "cell_type": "markdown",
   "id": "ba1fbfff",
   "metadata": {},
   "source": [
    "How Many Times Used This ID"
   ]
  },
  {
   "cell_type": "code",
   "execution_count": 687,
   "id": "8307b5d3",
   "metadata": {},
   "outputs": [],
   "source": [
    "Total_Number_of_Used_this_ID = '0108' #Input CAN ID"
   ]
  },
  {
   "cell_type": "code",
   "execution_count": 688,
   "id": "ad5cc072",
   "metadata": {},
   "outputs": [
    {
     "name": "stdout",
     "output_type": "stream",
     "text": [
      "\u001b[1m\u001b[34mTotal Number of Used this ID: \u001b[0m 2052\n"
     ]
    }
   ],
   "source": [
    "print(colored('Total Number of Used this ID: ', 'blue', attrs=['bold']),\n",
    "      len(Car_Data_Frame[Car_Data_Frame['CAN_ID'] == Total_Number_of_Used_this_ID]))"
   ]
  },
  {
   "cell_type": "code",
   "execution_count": null,
   "id": "92e9b932",
   "metadata": {},
   "outputs": [],
   "source": []
  },
  {
   "cell_type": "code",
   "execution_count": null,
   "id": "217d9088",
   "metadata": {},
   "outputs": [],
   "source": []
  },
  {
   "cell_type": "markdown",
   "id": "ed9dfda1",
   "metadata": {},
   "source": [
    "Total ID used under 100 times"
   ]
  },
  {
   "cell_type": "code",
   "execution_count": 562,
   "id": "68dd75c0",
   "metadata": {},
   "outputs": [
    {
     "name": "stdout",
     "output_type": "stream",
     "text": [
      "\u001b[1m\u001b[34mTotal ID used under 3: \u001b[0m 7\n",
      "\n",
      "\n",
      "\u001b[1m\u001b[31mTotal ID used under 3 List:\n",
      "\n",
      "\u001b[0m ['0363' '0782' '072A' '0522' '055D' '0534' '0515']\n"
     ]
    }
   ],
   "source": [
    "vx1 = (pd.value_counts(Car_Data_Frame['CAN_ID'])<100).index\n",
    "vx2 = (pd.value_counts(Car_Data_Frame['CAN_ID'])<100).values\n",
    "vx = pd.concat([pd.DataFrame(vx1), pd.DataFrame(vx2)], ignore_index=True, axis=1)\n",
    "vx = vx.rename(columns={0:'ID', 1:'XXX'})\n",
    "vx = vx[vx['XXX']==True]\n",
    "vx = vx['ID']\n",
    "print(colored('Total ID used under 3: ', 'blue', attrs=['bold']), len(vx))\n",
    "print('\\n')\n",
    "print(colored('Total ID used under 3 List:\\n\\n', 'red', attrs=['bold']), vx.values)"
   ]
  },
  {
   "cell_type": "markdown",
   "id": "bb313c9f",
   "metadata": {},
   "source": [
    "Total ID used Over 3 times"
   ]
  },
  {
   "cell_type": "code",
   "execution_count": 563,
   "id": "7f452169",
   "metadata": {},
   "outputs": [
    {
     "name": "stdout",
     "output_type": "stream",
     "text": [
      "\u001b[1m\u001b[34mTotal ID used Over 3: \n",
      "\n",
      "\u001b[0m 260\n",
      "\n",
      "\n",
      "\u001b[1m\u001b[31mTotal ID used Over 3 List:\n",
      "\n",
      "\u001b[0m ['0129' '01D5' '0266' '01D8' '02E5' '01CF' '013D' '0118' '0132' '02C1'\n",
      " '0201' '02E1' '0257' '0263' '039A' '0243' '07D5' '023E' '039D' '0381'\n",
      " '03C2' '03A2' '0249' '0272' '01FB' '0282' '0221' '0393' '0545' '0372'\n",
      " '0757' '02B3' '03F5' '0207' '0359' '0281' '0123' '03C0' '0788' '0247'\n",
      " '03C3' '03E2' '06C8' '03A3' '0228' '0288' '0211' '02D1' '02C2' '0227'\n",
      " '0340' '06E8' '0139' '01F9' '0103' '0287' '0102' '03E8' '0419' '01F8'\n",
      " '07A8' '0264' '02B4' '02C4' '0439' '0224' '0343' '03DA' '038A' '0261'\n",
      " '04E2' '0241' '0360' '07DD' '0225' '0204' '020C' '0422' '0113' '077D'\n",
      " '02F9' '027D' '0252' '0292' '029D' '025D' '037A' '0212' '02D2' '0379'\n",
      " '02BD' '02A8' '0409' '02F2' '0318' '07FF' '041D' '0122' '0400' '043D'\n",
      " '02E3' '03C8' '022A' '0119' '04E3' '0339' '0458' '01FA' '0383' '0423'\n",
      " '0283' '027A' '0242' '0719' '02E8' '0448' '0428' '0279' '03F9' '078A'\n",
      " '021D' '0128' '0126' '0397' '02B6' '0395' '0108' '01D6' '0421' '0268'\n",
      " '03E3' '03A1' '02C3' '02F1' '0229' '01A5' '0262' '0396' '0195' '0186'\n",
      " '054F' '0656' '0335' '0316' '06D4' '07AA' '0285' '02E2' '075D' '043B'\n",
      " '0405' '0273' '076A' '0772' '0320' '0482' '01DA' '03E9' '031E' '077A'\n",
      " '0293' '0253' '0313' '034A' '02F3' '03DB' '0213' '0473' '03B3' '0392'\n",
      " '0284' '0308' '0333' '0334' '0410' '03D8' '02D3' '03C4' '03B2' '0082'\n",
      " '03BB' '0353' '0301' '03AA' '03A4' '07C8' '0717' '0304' '0364' '03D6'\n",
      " '0385' '0384' '0344' '0376' '02A4' '0556' '0356' '0357' '0557' '0387'\n",
      " '0382' '0302' '004F' '0367' '03E5' '03C5' '03B5' '03A5' '036E' '036B'\n",
      " '0368' '0362' '035A' '035B' '0307' '03D5' '0559' '0361' '03ED' '0528'\n",
      " '05D7' '03FE' '0315' '03B6' '05D5' '0303' '033D' '03D3' '037D' '0319'\n",
      " '033A' '0744' '03D2' '0374' '0323' '0352' '0321' '03F2' '0232' '0312'\n",
      " '0708' '0752' '020A' '0300' '0332' '0739' '03C9' '07E8' '0743' '038B'\n",
      " '024A' '0748' '0399' '0330' '0345' '0310' '0401' '053E' '0666' '07F1']\n"
     ]
    }
   ],
   "source": [
    "v1 = (pd.value_counts(Car_Data_Frame['CAN_ID'])>=100).index\n",
    "v2 = (pd.value_counts(Car_Data_Frame['CAN_ID'])>=100).values\n",
    "v = pd.concat([pd.DataFrame(v1), pd.DataFrame(v2)], ignore_index=True, axis=1)\n",
    "v = v.rename(columns={0:'ID', 1:'XXX'})\n",
    "v = v[v['XXX']==True]\n",
    "v = v['ID']\n",
    "print(colored('Total ID used Over 3: \\n\\n', 'blue', attrs=['bold']) , len(v))\n",
    "print('\\n')\n",
    "print(colored('Total ID used Over 3 List:\\n\\n', 'red', attrs=['bold']), v.values)"
   ]
  },
  {
   "cell_type": "code",
   "execution_count": null,
   "id": "d941a0db",
   "metadata": {},
   "outputs": [],
   "source": []
  },
  {
   "cell_type": "code",
   "execution_count": null,
   "id": "09951fbc",
   "metadata": {},
   "outputs": [],
   "source": []
  },
  {
   "cell_type": "markdown",
   "id": "ca2e4798",
   "metadata": {},
   "source": [
    "# ID Wise Analysis On Time Gap"
   ]
  },
  {
   "cell_type": "code",
   "execution_count": 564,
   "id": "5c779a13",
   "metadata": {},
   "outputs": [],
   "source": [
    "ID_based = []\n",
    "for x in v:\n",
    "    ID_based.append(Car_Data_Frame[Car_Data_Frame['CAN_ID']==x])\n",
    " #------------------#   \n",
    "Time_Gap_by_own_ID = []\n",
    "combine_data = []\n",
    "k = 0\n",
    "#------------------#\n",
    "for i in ID_based:\n",
    "    z = i['Time']\n",
    "    Time_gap = [0]\n",
    "    k4 = 1\n",
    "    lenth = len(z)-1\n",
    "    #------------------#\n",
    "    for z1 in z:\n",
    "        k2 = float(np.array(z)[k4]) - float(z1)\n",
    "        Time_gap.append(k2)\n",
    "        if k4 >= lenth:\n",
    "            break\n",
    "        k4 = k4 + 1\n",
    "    Time_Gap_by_own_ID.append(Time_gap)\n",
    "    #------------------#\n",
    "for v in range(0,len(ID_based)):\n",
    "    q = pd.concat([pd.DataFrame(np.array(ID_based[v])), pd.DataFrame(np.array(Time_Gap_by_own_ID[v]))], \n",
    "                  ignore_index=True, axis=1)\n",
    "    q = q.rename(columns={0:'Time', 1:'CAN_ID', 2:'DLC', 3:'Full_Payload',4:'One', 5:'Two', 6:'Three', 7:'Four', 8:'Five', \n",
    "                      9:'Six', 10:'Seven', 11:'Eight', 12:'Full_Data_Time_Gap', 13:'ID_Based_Time_Gap'})\n",
    "    combine_data.append(q)\n",
    "    #------------------#"
   ]
  },
  {
   "cell_type": "code",
   "execution_count": null,
   "id": "664659a0",
   "metadata": {},
   "outputs": [],
   "source": []
  },
  {
   "cell_type": "code",
   "execution_count": 652,
   "id": "9369c448",
   "metadata": {},
   "outputs": [],
   "source": [
    "#Filter CAN ID Input\n",
    "x = '0393'"
   ]
  },
  {
   "cell_type": "code",
   "execution_count": 653,
   "id": "c18abd29",
   "metadata": {},
   "outputs": [],
   "source": [
    "for i in range(0,len(combine_data)):\n",
    "    if combine_data[i].CAN_ID[0] == x:\n",
    "        #print(combine_data[i])\n",
    "        ID_value_save = combine_data[i]"
   ]
  },
  {
   "cell_type": "code",
   "execution_count": 654,
   "id": "e4b38799",
   "metadata": {},
   "outputs": [
    {
     "data": {
      "text/html": [
       "<div>\n",
       "<style scoped>\n",
       "    .dataframe tbody tr th:only-of-type {\n",
       "        vertical-align: middle;\n",
       "    }\n",
       "\n",
       "    .dataframe tbody tr th {\n",
       "        vertical-align: top;\n",
       "    }\n",
       "\n",
       "    .dataframe thead th {\n",
       "        text-align: right;\n",
       "    }\n",
       "</style>\n",
       "<table border=\"1\" class=\"dataframe\">\n",
       "  <thead>\n",
       "    <tr style=\"text-align: right;\">\n",
       "      <th></th>\n",
       "      <th>Time</th>\n",
       "      <th>CAN_ID</th>\n",
       "      <th>DLC</th>\n",
       "      <th>Full_Payload</th>\n",
       "      <th>One</th>\n",
       "      <th>Two</th>\n",
       "      <th>Three</th>\n",
       "      <th>Four</th>\n",
       "      <th>Five</th>\n",
       "      <th>Six</th>\n",
       "      <th>Seven</th>\n",
       "      <th>Eight</th>\n",
       "      <th>Full_Data_Time_Gap</th>\n",
       "      <th>ID_Based_Time_Gap</th>\n",
       "    </tr>\n",
       "  </thead>\n",
       "  <tbody>\n",
       "    <tr>\n",
       "      <th>0</th>\n",
       "      <td>35.4</td>\n",
       "      <td>0393</td>\n",
       "      <td>8</td>\n",
       "      <td>08 00 08 F9 07 C0 0E 10</td>\n",
       "      <td>08</td>\n",
       "      <td>00</td>\n",
       "      <td>08</td>\n",
       "      <td>F9</td>\n",
       "      <td>07</td>\n",
       "      <td>C0</td>\n",
       "      <td>0E</td>\n",
       "      <td>10</td>\n",
       "      <td>0.9</td>\n",
       "      <td>0.0</td>\n",
       "    </tr>\n",
       "    <tr>\n",
       "      <th>1</th>\n",
       "      <td>85.7</td>\n",
       "      <td>0393</td>\n",
       "      <td>8</td>\n",
       "      <td>03 80 61 00 00 00 00 00</td>\n",
       "      <td>03</td>\n",
       "      <td>80</td>\n",
       "      <td>61</td>\n",
       "      <td>00</td>\n",
       "      <td>00</td>\n",
       "      <td>00</td>\n",
       "      <td>00</td>\n",
       "      <td>00</td>\n",
       "      <td>0.2</td>\n",
       "      <td>50.3</td>\n",
       "    </tr>\n",
       "    <tr>\n",
       "      <th>2</th>\n",
       "      <td>135.4</td>\n",
       "      <td>0393</td>\n",
       "      <td>8</td>\n",
       "      <td>08 00 07 F9 07 C0 0E 10</td>\n",
       "      <td>08</td>\n",
       "      <td>00</td>\n",
       "      <td>07</td>\n",
       "      <td>F9</td>\n",
       "      <td>07</td>\n",
       "      <td>C0</td>\n",
       "      <td>0E</td>\n",
       "      <td>10</td>\n",
       "      <td>0.8</td>\n",
       "      <td>49.7</td>\n",
       "    </tr>\n",
       "    <tr>\n",
       "      <th>3</th>\n",
       "      <td>185.7</td>\n",
       "      <td>0393</td>\n",
       "      <td>8</td>\n",
       "      <td>03 80 61 00 00 00 00 00</td>\n",
       "      <td>03</td>\n",
       "      <td>80</td>\n",
       "      <td>61</td>\n",
       "      <td>00</td>\n",
       "      <td>00</td>\n",
       "      <td>00</td>\n",
       "      <td>00</td>\n",
       "      <td>00</td>\n",
       "      <td>0.3</td>\n",
       "      <td>50.3</td>\n",
       "    </tr>\n",
       "    <tr>\n",
       "      <th>4</th>\n",
       "      <td>235.9</td>\n",
       "      <td>0393</td>\n",
       "      <td>8</td>\n",
       "      <td>08 00 07 E9 07 C0 0E 10</td>\n",
       "      <td>08</td>\n",
       "      <td>00</td>\n",
       "      <td>07</td>\n",
       "      <td>E9</td>\n",
       "      <td>07</td>\n",
       "      <td>C0</td>\n",
       "      <td>0E</td>\n",
       "      <td>10</td>\n",
       "      <td>0.3</td>\n",
       "      <td>50.2</td>\n",
       "    </tr>\n",
       "    <tr>\n",
       "      <th>...</th>\n",
       "      <td>...</td>\n",
       "      <td>...</td>\n",
       "      <td>...</td>\n",
       "      <td>...</td>\n",
       "      <td>...</td>\n",
       "      <td>...</td>\n",
       "      <td>...</td>\n",
       "      <td>...</td>\n",
       "      <td>...</td>\n",
       "      <td>...</td>\n",
       "      <td>...</td>\n",
       "      <td>...</td>\n",
       "      <td>...</td>\n",
       "      <td>...</td>\n",
       "    </tr>\n",
       "    <tr>\n",
       "      <th>4106</th>\n",
       "      <td>247090.0</td>\n",
       "      <td>0393</td>\n",
       "      <td>8</td>\n",
       "      <td>03 80 61 00 00 00 00 00</td>\n",
       "      <td>03</td>\n",
       "      <td>80</td>\n",
       "      <td>61</td>\n",
       "      <td>00</td>\n",
       "      <td>00</td>\n",
       "      <td>00</td>\n",
       "      <td>00</td>\n",
       "      <td>00</td>\n",
       "      <td>0.3</td>\n",
       "      <td>50.2</td>\n",
       "    </tr>\n",
       "    <tr>\n",
       "      <th>4107</th>\n",
       "      <td>247140.0</td>\n",
       "      <td>0393</td>\n",
       "      <td>8</td>\n",
       "      <td>08 00 07 F1 07 C0 0E 10</td>\n",
       "      <td>08</td>\n",
       "      <td>00</td>\n",
       "      <td>07</td>\n",
       "      <td>F1</td>\n",
       "      <td>07</td>\n",
       "      <td>C0</td>\n",
       "      <td>0E</td>\n",
       "      <td>10</td>\n",
       "      <td>0.3</td>\n",
       "      <td>50.0</td>\n",
       "    </tr>\n",
       "    <tr>\n",
       "      <th>4108</th>\n",
       "      <td>247190.0</td>\n",
       "      <td>0393</td>\n",
       "      <td>8</td>\n",
       "      <td>03 80 61 00 00 00 00 00</td>\n",
       "      <td>03</td>\n",
       "      <td>80</td>\n",
       "      <td>61</td>\n",
       "      <td>00</td>\n",
       "      <td>00</td>\n",
       "      <td>00</td>\n",
       "      <td>00</td>\n",
       "      <td>00</td>\n",
       "      <td>0.3</td>\n",
       "      <td>50.0</td>\n",
       "    </tr>\n",
       "    <tr>\n",
       "      <th>4109</th>\n",
       "      <td>247239.7</td>\n",
       "      <td>0393</td>\n",
       "      <td>8</td>\n",
       "      <td>08 00 07 F1 07 C0 0E 10</td>\n",
       "      <td>08</td>\n",
       "      <td>00</td>\n",
       "      <td>07</td>\n",
       "      <td>F1</td>\n",
       "      <td>07</td>\n",
       "      <td>C0</td>\n",
       "      <td>0E</td>\n",
       "      <td>10</td>\n",
       "      <td>0.2</td>\n",
       "      <td>49.7</td>\n",
       "    </tr>\n",
       "    <tr>\n",
       "      <th>4110</th>\n",
       "      <td>247290.2</td>\n",
       "      <td>0393</td>\n",
       "      <td>8</td>\n",
       "      <td>03 80 61 00 00 00 00 00</td>\n",
       "      <td>03</td>\n",
       "      <td>80</td>\n",
       "      <td>61</td>\n",
       "      <td>00</td>\n",
       "      <td>00</td>\n",
       "      <td>00</td>\n",
       "      <td>00</td>\n",
       "      <td>00</td>\n",
       "      <td>0.2</td>\n",
       "      <td>50.5</td>\n",
       "    </tr>\n",
       "  </tbody>\n",
       "</table>\n",
       "<p>4111 rows × 14 columns</p>\n",
       "</div>"
      ],
      "text/plain": [
       "                Time CAN_ID DLC              Full_Payload One Two Three Four  \\\n",
       "0             35.4     0393   8  08 00 08 F9 07 C0 0E 10   08  00    08   F9   \n",
       "1             85.7     0393   8  03 80 61 00 00 00 00 00   03  80    61   00   \n",
       "2            135.4     0393   8  08 00 07 F9 07 C0 0E 10   08  00    07   F9   \n",
       "3            185.7     0393   8  03 80 61 00 00 00 00 00   03  80    61   00   \n",
       "4            235.9     0393   8  08 00 07 E9 07 C0 0E 10   08  00    07   E9   \n",
       "...              ...    ...  ..                       ...  ..  ..   ...  ...   \n",
       "4106      247090.0     0393   8  03 80 61 00 00 00 00 00   03  80    61   00   \n",
       "4107      247140.0     0393   8  08 00 07 F1 07 C0 0E 10   08  00    07   F1   \n",
       "4108      247190.0     0393   8  03 80 61 00 00 00 00 00   03  80    61   00   \n",
       "4109      247239.7     0393   8  08 00 07 F1 07 C0 0E 10   08  00    07   F1   \n",
       "4110      247290.2     0393   8  03 80 61 00 00 00 00 00   03  80    61   00   \n",
       "\n",
       "     Five Six Seven Eight Full_Data_Time_Gap  ID_Based_Time_Gap  \n",
       "0      07  C0    0E   10                 0.9                0.0  \n",
       "1      00  00    00   00                 0.2               50.3  \n",
       "2      07  C0    0E   10                 0.8               49.7  \n",
       "3      00  00    00   00                 0.3               50.3  \n",
       "4      07  C0    0E   10                 0.3               50.2  \n",
       "...   ...  ..   ...   ...                ...                ...  \n",
       "4106   00  00    00   00                 0.3               50.2  \n",
       "4107   07  C0    0E   10                 0.3               50.0  \n",
       "4108   00  00    00   00                 0.3               50.0  \n",
       "4109   07  C0    0E   10                 0.2               49.7  \n",
       "4110   00  00    00   00                 0.2               50.5  \n",
       "\n",
       "[4111 rows x 14 columns]"
      ]
     },
     "execution_count": 654,
     "metadata": {},
     "output_type": "execute_result"
    }
   ],
   "source": [
    "ID_value_save"
   ]
  },
  {
   "cell_type": "code",
   "execution_count": 655,
   "id": "751e696b",
   "metadata": {},
   "outputs": [
    {
     "data": {
      "text/plain": [
       "Text(0.5, 1.0, 'Data Cangeing Pattern According to Time Gap')"
      ]
     },
     "execution_count": 655,
     "metadata": {},
     "output_type": "execute_result"
    },
    {
     "data": {
      "image/png": "[encoded data removed]",
      "text/plain": [
       "<Figure size 864x720 with 1 Axes>"
      ]
     },
     "metadata": {
      "needs_background": "light"
     },
     "output_type": "display_data"
    }
   ],
   "source": [
    "plt.subplots(figsize = (12, 10))\n",
    "plt.plot(ID_value_save['ID_Based_Time_Gap'])\n",
    "plt.xlabel(\"Data Length\", fontsize=15,  weight='bold')\n",
    "plt.ylabel(\"Time Gap in Miliseconds\", fontsize=15,  weight='bold')\n",
    "plt.title(\"Data Cangeing Pattern According to Time Gap\", fontsize=15,  weight='bold')"
   ]
  },
  {
   "cell_type": "code",
   "execution_count": null,
   "id": "c82afe7c",
   "metadata": {},
   "outputs": [],
   "source": []
  },
  {
   "cell_type": "markdown",
   "id": "33f40672",
   "metadata": {},
   "source": [
    "# Data Sliceing on Specific CAN ID"
   ]
  },
  {
   "cell_type": "code",
   "execution_count": 656,
   "id": "f40c67a3",
   "metadata": {},
   "outputs": [],
   "source": [
    "lower_limit = 1000 #Parameter Input lower value\n",
    "upper_limit = 1500 #Parameter Input higher value\n",
    "column = 'ID_Based_Time_Gap' #Selecting the column"
   ]
  },
  {
   "cell_type": "code",
   "execution_count": 657,
   "id": "38ef22c9",
   "metadata": {},
   "outputs": [
    {
     "data": {
      "text/plain": [
       "1000    49.4\n",
       "1001    50.0\n",
       "1002    50.2\n",
       "1003    49.8\n",
       "1004    50.2\n",
       "        ... \n",
       "1495    50.6\n",
       "1496    49.3\n",
       "1497    50.0\n",
       "1498    50.5\n",
       "1499    49.7\n",
       "Name: ID_Based_Time_Gap, Length: 500, dtype: float64"
      ]
     },
     "execution_count": 657,
     "metadata": {},
     "output_type": "execute_result"
    }
   ],
   "source": [
    "ID_value_save[column][lower_limit:upper_limit]"
   ]
  },
  {
   "cell_type": "code",
   "execution_count": 658,
   "id": "bbac949e",
   "metadata": {},
   "outputs": [
    {
     "data": {
      "text/plain": [
       "Text(0.5, 1.0, 'Sliced Data Cangeing Pattern According to Time Gap on ID')"
      ]
     },
     "execution_count": 658,
     "metadata": {},
     "output_type": "execute_result"
    },
    {
     "data": {
      "image/png": "[encoded data removed]",
      "text/plain": [
       "<Figure size 864x720 with 1 Axes>"
      ]
     },
     "metadata": {
      "needs_background": "light"
     },
     "output_type": "display_data"
    }
   ],
   "source": [
    "plt.subplots(figsize = (12, 10))\n",
    "plt.plot(ID_value_save[column][lower_limit:upper_limit])\n",
    "plt.xlabel(\"Data Length\", fontsize=15,  weight='bold')\n",
    "plt.ylabel(\"Time Gap in Miliseconds\", fontsize=15,  weight='bold')\n",
    "plt.title(\"Sliced Data Cangeing Pattern According to Time Gap on ID\", fontsize=15,  weight='bold')"
   ]
  },
  {
   "cell_type": "code",
   "execution_count": null,
   "id": "c9133aad",
   "metadata": {},
   "outputs": [],
   "source": []
  },
  {
   "cell_type": "markdown",
   "id": "c7ce3c22",
   "metadata": {},
   "source": [
    "# Payload Analysis ID Wise"
   ]
  },
  {
   "cell_type": "code",
   "execution_count": 670,
   "id": "20ba84a4",
   "metadata": {},
   "outputs": [
    {
     "name": "stdout",
     "output_type": "stream",
     "text": [
      "\u001b[1m\u001b[34mTotal Types of Payload Amount: \n",
      "\n",
      "\u001b[0m 12\n",
      "\n",
      "\n",
      "\u001b[1m\u001b[31mTotal Types of Payload:\n",
      "\n",
      "\u001b[0m ['03 80 61 00 00 00 00 00' '08 00 06 E1 07 C0 0E 10'\n",
      " '08 00 06 E9 07 C0 0E 10' '08 00 06 F1 07 C0 0E 10'\n",
      " '08 00 06 F9 07 C0 0E 10' '08 00 07 E1 07 C0 0E 10'\n",
      " '08 00 07 E9 07 C0 0E 10' '08 00 07 F1 07 C0 0E 10'\n",
      " '08 00 07 F9 07 C0 0E 10' '08 00 08 E9 07 C0 0E 10'\n",
      " '08 00 08 F1 07 C0 0E 10' '08 00 08 F9 07 C0 0E 10']\n"
     ]
    }
   ],
   "source": [
    "print(colored('Total Types of Payload Amount: \\n\\n', 'blue', attrs=['bold']) , len(np.unique(ID_value_save['Full_Payload'])))\n",
    "print('\\n')\n",
    "print(colored('Total Types of Payload:\\n\\n', 'red', attrs=['bold']), np.unique(ID_value_save['Full_Payload'].str.strip('Full_Payload ')))"
   ]
  },
  {
   "cell_type": "code",
   "execution_count": 671,
   "id": "7f2a62df",
   "metadata": {},
   "outputs": [],
   "source": [
    "single_payload = np.unique(ID_value_save['Full_Payload'].str.strip('Full_Payload '))\n",
    "payload = single_payload[11] #Input payload Number"
   ]
  },
  {
   "cell_type": "code",
   "execution_count": 672,
   "id": "52a8878f",
   "metadata": {},
   "outputs": [],
   "source": [
    "payload_filter_data = ID_value_save[ID_value_save['Full_Payload'].str.strip('Full_Payload ') == payload]"
   ]
  },
  {
   "cell_type": "code",
   "execution_count": 673,
   "id": "48c8b165",
   "metadata": {},
   "outputs": [
    {
     "data": {
      "text/html": [
       "<div>\n",
       "<style scoped>\n",
       "    .dataframe tbody tr th:only-of-type {\n",
       "        vertical-align: middle;\n",
       "    }\n",
       "\n",
       "    .dataframe tbody tr th {\n",
       "        vertical-align: top;\n",
       "    }\n",
       "\n",
       "    .dataframe thead th {\n",
       "        text-align: right;\n",
       "    }\n",
       "</style>\n",
       "<table border=\"1\" class=\"dataframe\">\n",
       "  <thead>\n",
       "    <tr style=\"text-align: right;\">\n",
       "      <th></th>\n",
       "      <th>Time</th>\n",
       "      <th>CAN_ID</th>\n",
       "      <th>DLC</th>\n",
       "      <th>Full_Payload</th>\n",
       "      <th>One</th>\n",
       "      <th>Two</th>\n",
       "      <th>Three</th>\n",
       "      <th>Four</th>\n",
       "      <th>Five</th>\n",
       "      <th>Six</th>\n",
       "      <th>Seven</th>\n",
       "      <th>Eight</th>\n",
       "      <th>Full_Data_Time_Gap</th>\n",
       "      <th>ID_Based_Time_Gap</th>\n",
       "    </tr>\n",
       "  </thead>\n",
       "  <tbody>\n",
       "    <tr>\n",
       "      <th>0</th>\n",
       "      <td>35.4</td>\n",
       "      <td>0393</td>\n",
       "      <td>8</td>\n",
       "      <td>08 00 08 F9 07 C0 0E 10</td>\n",
       "      <td>08</td>\n",
       "      <td>00</td>\n",
       "      <td>08</td>\n",
       "      <td>F9</td>\n",
       "      <td>07</td>\n",
       "      <td>C0</td>\n",
       "      <td>0E</td>\n",
       "      <td>10</td>\n",
       "      <td>0.9</td>\n",
       "      <td>0.0</td>\n",
       "    </tr>\n",
       "    <tr>\n",
       "      <th>8</th>\n",
       "      <td>435.4</td>\n",
       "      <td>0393</td>\n",
       "      <td>8</td>\n",
       "      <td>08 00 08 F9 07 C0 0E 10</td>\n",
       "      <td>08</td>\n",
       "      <td>00</td>\n",
       "      <td>08</td>\n",
       "      <td>F9</td>\n",
       "      <td>07</td>\n",
       "      <td>C0</td>\n",
       "      <td>0E</td>\n",
       "      <td>10</td>\n",
       "      <td>0.8</td>\n",
       "      <td>49.7</td>\n",
       "    </tr>\n",
       "    <tr>\n",
       "      <th>14</th>\n",
       "      <td>735.4</td>\n",
       "      <td>0393</td>\n",
       "      <td>8</td>\n",
       "      <td>08 00 08 F9 07 C0 0E 10</td>\n",
       "      <td>08</td>\n",
       "      <td>00</td>\n",
       "      <td>08</td>\n",
       "      <td>F9</td>\n",
       "      <td>07</td>\n",
       "      <td>C0</td>\n",
       "      <td>0E</td>\n",
       "      <td>10</td>\n",
       "      <td>0.8</td>\n",
       "      <td>49.5</td>\n",
       "    </tr>\n",
       "    <tr>\n",
       "      <th>16</th>\n",
       "      <td>835.8</td>\n",
       "      <td>0393</td>\n",
       "      <td>8</td>\n",
       "      <td>08 00 08 F9 07 C0 0E 10</td>\n",
       "      <td>08</td>\n",
       "      <td>00</td>\n",
       "      <td>08</td>\n",
       "      <td>F9</td>\n",
       "      <td>07</td>\n",
       "      <td>C0</td>\n",
       "      <td>0E</td>\n",
       "      <td>10</td>\n",
       "      <td>0.2</td>\n",
       "      <td>50.4</td>\n",
       "    </tr>\n",
       "    <tr>\n",
       "      <th>29</th>\n",
       "      <td>1635.4</td>\n",
       "      <td>0393</td>\n",
       "      <td>8</td>\n",
       "      <td>08 00 08 F9 07 C0 0E 10</td>\n",
       "      <td>08</td>\n",
       "      <td>00</td>\n",
       "      <td>08</td>\n",
       "      <td>F9</td>\n",
       "      <td>07</td>\n",
       "      <td>C0</td>\n",
       "      <td>0E</td>\n",
       "      <td>10</td>\n",
       "      <td>0.8</td>\n",
       "      <td>48.6</td>\n",
       "    </tr>\n",
       "    <tr>\n",
       "      <th>...</th>\n",
       "      <td>...</td>\n",
       "      <td>...</td>\n",
       "      <td>...</td>\n",
       "      <td>...</td>\n",
       "      <td>...</td>\n",
       "      <td>...</td>\n",
       "      <td>...</td>\n",
       "      <td>...</td>\n",
       "      <td>...</td>\n",
       "      <td>...</td>\n",
       "      <td>...</td>\n",
       "      <td>...</td>\n",
       "      <td>...</td>\n",
       "      <td>...</td>\n",
       "    </tr>\n",
       "    <tr>\n",
       "      <th>3965</th>\n",
       "      <td>240039.7</td>\n",
       "      <td>0393</td>\n",
       "      <td>8</td>\n",
       "      <td>08 00 08 F9 07 C0 0E 10</td>\n",
       "      <td>08</td>\n",
       "      <td>00</td>\n",
       "      <td>08</td>\n",
       "      <td>F9</td>\n",
       "      <td>07</td>\n",
       "      <td>C0</td>\n",
       "      <td>0E</td>\n",
       "      <td>10</td>\n",
       "      <td>0.3</td>\n",
       "      <td>50.1</td>\n",
       "    </tr>\n",
       "    <tr>\n",
       "      <th>3979</th>\n",
       "      <td>240739.6</td>\n",
       "      <td>0393</td>\n",
       "      <td>8</td>\n",
       "      <td>08 00 08 F9 07 C0 0E 10</td>\n",
       "      <td>08</td>\n",
       "      <td>00</td>\n",
       "      <td>08</td>\n",
       "      <td>F9</td>\n",
       "      <td>07</td>\n",
       "      <td>C0</td>\n",
       "      <td>0E</td>\n",
       "      <td>10</td>\n",
       "      <td>0.5</td>\n",
       "      <td>49.5</td>\n",
       "    </tr>\n",
       "    <tr>\n",
       "      <th>4001</th>\n",
       "      <td>241840.0</td>\n",
       "      <td>0393</td>\n",
       "      <td>8</td>\n",
       "      <td>08 00 08 F9 07 C0 0E 10</td>\n",
       "      <td>08</td>\n",
       "      <td>00</td>\n",
       "      <td>08</td>\n",
       "      <td>F9</td>\n",
       "      <td>07</td>\n",
       "      <td>C0</td>\n",
       "      <td>0E</td>\n",
       "      <td>10</td>\n",
       "      <td>0.2</td>\n",
       "      <td>49.9</td>\n",
       "    </tr>\n",
       "    <tr>\n",
       "      <th>4011</th>\n",
       "      <td>242341.2</td>\n",
       "      <td>0393</td>\n",
       "      <td>8</td>\n",
       "      <td>08 00 08 F9 07 C0 0E 10</td>\n",
       "      <td>08</td>\n",
       "      <td>00</td>\n",
       "      <td>08</td>\n",
       "      <td>F9</td>\n",
       "      <td>07</td>\n",
       "      <td>C0</td>\n",
       "      <td>0E</td>\n",
       "      <td>10</td>\n",
       "      <td>0.2</td>\n",
       "      <td>51.6</td>\n",
       "    </tr>\n",
       "    <tr>\n",
       "      <th>4061</th>\n",
       "      <td>244839.9</td>\n",
       "      <td>0393</td>\n",
       "      <td>8</td>\n",
       "      <td>08 00 08 F9 07 C0 0E 10</td>\n",
       "      <td>08</td>\n",
       "      <td>00</td>\n",
       "      <td>08</td>\n",
       "      <td>F9</td>\n",
       "      <td>07</td>\n",
       "      <td>C0</td>\n",
       "      <td>0E</td>\n",
       "      <td>10</td>\n",
       "      <td>0.2</td>\n",
       "      <td>49.9</td>\n",
       "    </tr>\n",
       "  </tbody>\n",
       "</table>\n",
       "<p>191 rows × 14 columns</p>\n",
       "</div>"
      ],
      "text/plain": [
       "                Time CAN_ID DLC              Full_Payload One Two Three Four  \\\n",
       "0             35.4     0393   8  08 00 08 F9 07 C0 0E 10   08  00    08   F9   \n",
       "8            435.4     0393   8  08 00 08 F9 07 C0 0E 10   08  00    08   F9   \n",
       "14           735.4     0393   8  08 00 08 F9 07 C0 0E 10   08  00    08   F9   \n",
       "16           835.8     0393   8  08 00 08 F9 07 C0 0E 10   08  00    08   F9   \n",
       "29          1635.4     0393   8  08 00 08 F9 07 C0 0E 10   08  00    08   F9   \n",
       "...              ...    ...  ..                       ...  ..  ..   ...  ...   \n",
       "3965      240039.7     0393   8  08 00 08 F9 07 C0 0E 10   08  00    08   F9   \n",
       "3979      240739.6     0393   8  08 00 08 F9 07 C0 0E 10   08  00    08   F9   \n",
       "4001      241840.0     0393   8  08 00 08 F9 07 C0 0E 10   08  00    08   F9   \n",
       "4011      242341.2     0393   8  08 00 08 F9 07 C0 0E 10   08  00    08   F9   \n",
       "4061      244839.9     0393   8  08 00 08 F9 07 C0 0E 10   08  00    08   F9   \n",
       "\n",
       "     Five Six Seven Eight Full_Data_Time_Gap  ID_Based_Time_Gap  \n",
       "0      07  C0    0E   10                 0.9                0.0  \n",
       "8      07  C0    0E   10                 0.8               49.7  \n",
       "14     07  C0    0E   10                 0.8               49.5  \n",
       "16     07  C0    0E   10                 0.2               50.4  \n",
       "29     07  C0    0E   10                 0.8               48.6  \n",
       "...   ...  ..   ...   ...                ...                ...  \n",
       "3965   07  C0    0E   10                 0.3               50.1  \n",
       "3979   07  C0    0E   10                 0.5               49.5  \n",
       "4001   07  C0    0E   10                 0.2               49.9  \n",
       "4011   07  C0    0E   10                 0.2               51.6  \n",
       "4061   07  C0    0E   10                 0.2               49.9  \n",
       "\n",
       "[191 rows x 14 columns]"
      ]
     },
     "execution_count": 673,
     "metadata": {},
     "output_type": "execute_result"
    }
   ],
   "source": [
    "payload_filter_data"
   ]
  },
  {
   "cell_type": "code",
   "execution_count": 674,
   "id": "121fecb5",
   "metadata": {},
   "outputs": [
    {
     "name": "stderr",
     "output_type": "stream",
     "text": [
      "C:\\Users\\Lisa\\AppData\\Local\\Temp/ipykernel_1944/1409731883.py:5: SettingWithCopyWarning: \n",
      "A value is trying to be set on a copy of a slice from a DataFrame.\n",
      "Try using .loc[row_indexer,col_indexer] = value instead\n",
      "\n",
      "See the caveats in the documentation: https://pandas.pydata.org/pandas-docs/stable/user_guide/indexing.html#returning-a-view-versus-a-copy\n",
      "  payload_filter_data['Time'] = payload_filter_data['Time'].str.extract(r'(\\d+)')\n"
     ]
    }
   ],
   "source": [
    "Time_gap_payload = [0]\n",
    "k4 = 1\n",
    "lenth = len(payload_filter_data.Time)-1\n",
    "\n",
    "payload_filter_data['Time'] = payload_filter_data['Time'].str.extract(r'(\\d+)')\n",
    "strip = np.array(payload_filter_data['Time'])\n",
    "\n",
    "for k in strip:\n",
    "    k2 = float(strip[k4]) - float(k)\n",
    "    Time_gap_payload.append(k2)\n",
    "    if k4 >= lenth:\n",
    "        break\n",
    "    k4 = k4 + 1\n",
    "Time_gap_payload = pd.DataFrame(Time_gap_payload, columns = ['Time_gap_payload'])"
   ]
  },
  {
   "cell_type": "code",
   "execution_count": 675,
   "id": "c2435c88",
   "metadata": {},
   "outputs": [
    {
     "data": {
      "text/html": [
       "<div>\n",
       "<style scoped>\n",
       "    .dataframe tbody tr th:only-of-type {\n",
       "        vertical-align: middle;\n",
       "    }\n",
       "\n",
       "    .dataframe tbody tr th {\n",
       "        vertical-align: top;\n",
       "    }\n",
       "\n",
       "    .dataframe thead th {\n",
       "        text-align: right;\n",
       "    }\n",
       "</style>\n",
       "<table border=\"1\" class=\"dataframe\">\n",
       "  <thead>\n",
       "    <tr style=\"text-align: right;\">\n",
       "      <th></th>\n",
       "      <th>Time_gap_payload</th>\n",
       "    </tr>\n",
       "  </thead>\n",
       "  <tbody>\n",
       "    <tr>\n",
       "      <th>0</th>\n",
       "      <td>0.0</td>\n",
       "    </tr>\n",
       "    <tr>\n",
       "      <th>1</th>\n",
       "      <td>400.0</td>\n",
       "    </tr>\n",
       "    <tr>\n",
       "      <th>2</th>\n",
       "      <td>300.0</td>\n",
       "    </tr>\n",
       "    <tr>\n",
       "      <th>3</th>\n",
       "      <td>100.0</td>\n",
       "    </tr>\n",
       "    <tr>\n",
       "      <th>4</th>\n",
       "      <td>800.0</td>\n",
       "    </tr>\n",
       "    <tr>\n",
       "      <th>...</th>\n",
       "      <td>...</td>\n",
       "    </tr>\n",
       "    <tr>\n",
       "      <th>186</th>\n",
       "      <td>500.0</td>\n",
       "    </tr>\n",
       "    <tr>\n",
       "      <th>187</th>\n",
       "      <td>700.0</td>\n",
       "    </tr>\n",
       "    <tr>\n",
       "      <th>188</th>\n",
       "      <td>1101.0</td>\n",
       "    </tr>\n",
       "    <tr>\n",
       "      <th>189</th>\n",
       "      <td>501.0</td>\n",
       "    </tr>\n",
       "    <tr>\n",
       "      <th>190</th>\n",
       "      <td>2498.0</td>\n",
       "    </tr>\n",
       "  </tbody>\n",
       "</table>\n",
       "<p>191 rows × 1 columns</p>\n",
       "</div>"
      ],
      "text/plain": [
       "     Time_gap_payload\n",
       "0                 0.0\n",
       "1               400.0\n",
       "2               300.0\n",
       "3               100.0\n",
       "4               800.0\n",
       "..                ...\n",
       "186             500.0\n",
       "187             700.0\n",
       "188            1101.0\n",
       "189             501.0\n",
       "190            2498.0\n",
       "\n",
       "[191 rows x 1 columns]"
      ]
     },
     "execution_count": 675,
     "metadata": {},
     "output_type": "execute_result"
    }
   ],
   "source": [
    "Time_gap_payload"
   ]
  },
  {
   "cell_type": "code",
   "execution_count": 676,
   "id": "7a0f3d57",
   "metadata": {},
   "outputs": [
    {
     "data": {
      "text/plain": [
       "Text(0.5, 1.0, 'Payload According to Time Gap')"
      ]
     },
     "execution_count": 676,
     "metadata": {},
     "output_type": "execute_result"
    },
    {
     "data": {
      "image/png": "[encoded data removed]",
      "text/plain": [
       "<Figure size 864x720 with 1 Axes>"
      ]
     },
     "metadata": {
      "needs_background": "light"
     },
     "output_type": "display_data"
    }
   ],
   "source": [
    "plt.subplots(figsize = (12, 10))\n",
    "plt.plot(Time_gap_payload['Time_gap_payload'])\n",
    "plt.xlabel(\"Data Length\", fontsize=15,  weight='bold')\n",
    "plt.ylabel(\"Time Gap in Miliseconds\", fontsize=15,  weight='bold')\n",
    "plt.title(\"Payload According to Time Gap\", fontsize=15,  weight='bold')"
   ]
  },
  {
   "cell_type": "code",
   "execution_count": null,
   "id": "94d300a9",
   "metadata": {},
   "outputs": [],
   "source": []
  },
  {
   "cell_type": "code",
   "execution_count": null,
   "id": "2b6ea17b",
   "metadata": {},
   "outputs": [],
   "source": []
  },
  {
   "cell_type": "code",
   "execution_count": null,
   "id": "538fe794",
   "metadata": {},
   "outputs": [],
   "source": []
  },
  {
   "cell_type": "code",
   "execution_count": null,
   "id": "2c05e2d1",
   "metadata": {},
   "outputs": [],
   "source": []
  },
  {
   "cell_type": "code",
   "execution_count": null,
   "id": "d81f0867",
   "metadata": {},
   "outputs": [],
   "source": []
  },
  {
   "cell_type": "markdown",
   "id": "dcda8fdd",
   "metadata": {},
   "source": [
    "# PID Analysis ID Wise"
   ]
  },
  {
   "cell_type": "code",
   "execution_count": 679,
   "id": "13615c85",
   "metadata": {},
   "outputs": [],
   "source": [
    "Which_PID = 'One' # Input PID Column"
   ]
  },
  {
   "cell_type": "code",
   "execution_count": 680,
   "id": "efffbb06",
   "metadata": {},
   "outputs": [
    {
     "name": "stdout",
     "output_type": "stream",
     "text": [
      "\u001b[1m\u001b[34mTotal Types of Payload Amount: \n",
      "\n",
      "\u001b[0m 2\n",
      "\n",
      "\n",
      "\u001b[1m\u001b[31mTotal Types of Payload:\n",
      "\n",
      "\u001b[0m ['03' '08']\n"
     ]
    }
   ],
   "source": [
    "print(colored('Total Types of Payload Amount: \\n\\n', 'blue', attrs=['bold']) , len(np.unique(ID_value_save[Which_PID])))\n",
    "print('\\n')\n",
    "print(colored('Total Types of Payload:\\n\\n', 'red', attrs=['bold']), np.unique(ID_value_save[Which_PID].str.strip('Full_Payload ')))"
   ]
  },
  {
   "cell_type": "code",
   "execution_count": 681,
   "id": "50c0d942",
   "metadata": {},
   "outputs": [],
   "source": [
    "PID = '03' # Input PID Payload"
   ]
  },
  {
   "cell_type": "code",
   "execution_count": 682,
   "id": "bfe93240",
   "metadata": {},
   "outputs": [],
   "source": [
    "PID_filter_data = ID_value_save[ID_value_save['One'].str.strip('One ') == PID]"
   ]
  },
  {
   "cell_type": "code",
   "execution_count": 683,
   "id": "2b04bde9",
   "metadata": {},
   "outputs": [
    {
     "data": {
      "text/html": [
       "<div>\n",
       "<style scoped>\n",
       "    .dataframe tbody tr th:only-of-type {\n",
       "        vertical-align: middle;\n",
       "    }\n",
       "\n",
       "    .dataframe tbody tr th {\n",
       "        vertical-align: top;\n",
       "    }\n",
       "\n",
       "    .dataframe thead th {\n",
       "        text-align: right;\n",
       "    }\n",
       "</style>\n",
       "<table border=\"1\" class=\"dataframe\">\n",
       "  <thead>\n",
       "    <tr style=\"text-align: right;\">\n",
       "      <th></th>\n",
       "      <th>Time</th>\n",
       "      <th>CAN_ID</th>\n",
       "      <th>DLC</th>\n",
       "      <th>Full_Payload</th>\n",
       "      <th>One</th>\n",
       "      <th>Two</th>\n",
       "      <th>Three</th>\n",
       "      <th>Four</th>\n",
       "      <th>Five</th>\n",
       "      <th>Six</th>\n",
       "      <th>Seven</th>\n",
       "      <th>Eight</th>\n",
       "      <th>Full_Data_Time_Gap</th>\n",
       "      <th>ID_Based_Time_Gap</th>\n",
       "    </tr>\n",
       "  </thead>\n",
       "  <tbody>\n",
       "    <tr>\n",
       "      <th>1</th>\n",
       "      <td>85.7</td>\n",
       "      <td>0393</td>\n",
       "      <td>8</td>\n",
       "      <td>03 80 61 00 00 00 00 00</td>\n",
       "      <td>03</td>\n",
       "      <td>80</td>\n",
       "      <td>61</td>\n",
       "      <td>00</td>\n",
       "      <td>00</td>\n",
       "      <td>00</td>\n",
       "      <td>00</td>\n",
       "      <td>00</td>\n",
       "      <td>0.2</td>\n",
       "      <td>50.3</td>\n",
       "    </tr>\n",
       "    <tr>\n",
       "      <th>3</th>\n",
       "      <td>185.7</td>\n",
       "      <td>0393</td>\n",
       "      <td>8</td>\n",
       "      <td>03 80 61 00 00 00 00 00</td>\n",
       "      <td>03</td>\n",
       "      <td>80</td>\n",
       "      <td>61</td>\n",
       "      <td>00</td>\n",
       "      <td>00</td>\n",
       "      <td>00</td>\n",
       "      <td>00</td>\n",
       "      <td>00</td>\n",
       "      <td>0.3</td>\n",
       "      <td>50.3</td>\n",
       "    </tr>\n",
       "    <tr>\n",
       "      <th>5</th>\n",
       "      <td>285.4</td>\n",
       "      <td>0393</td>\n",
       "      <td>8</td>\n",
       "      <td>03 80 61 00 00 00 00 00</td>\n",
       "      <td>03</td>\n",
       "      <td>80</td>\n",
       "      <td>61</td>\n",
       "      <td>00</td>\n",
       "      <td>00</td>\n",
       "      <td>00</td>\n",
       "      <td>00</td>\n",
       "      <td>00</td>\n",
       "      <td>1.3</td>\n",
       "      <td>49.5</td>\n",
       "    </tr>\n",
       "    <tr>\n",
       "      <th>7</th>\n",
       "      <td>385.7</td>\n",
       "      <td>0393</td>\n",
       "      <td>8</td>\n",
       "      <td>03 80 61 00 00 00 00 00</td>\n",
       "      <td>03</td>\n",
       "      <td>80</td>\n",
       "      <td>61</td>\n",
       "      <td>00</td>\n",
       "      <td>00</td>\n",
       "      <td>00</td>\n",
       "      <td>00</td>\n",
       "      <td>00</td>\n",
       "      <td>0.3</td>\n",
       "      <td>50.1</td>\n",
       "    </tr>\n",
       "    <tr>\n",
       "      <th>9</th>\n",
       "      <td>485.4</td>\n",
       "      <td>0393</td>\n",
       "      <td>8</td>\n",
       "      <td>03 80 61 00 00 00 00 00</td>\n",
       "      <td>03</td>\n",
       "      <td>80</td>\n",
       "      <td>61</td>\n",
       "      <td>00</td>\n",
       "      <td>00</td>\n",
       "      <td>00</td>\n",
       "      <td>00</td>\n",
       "      <td>00</td>\n",
       "      <td>1.3</td>\n",
       "      <td>50.0</td>\n",
       "    </tr>\n",
       "    <tr>\n",
       "      <th>...</th>\n",
       "      <td>...</td>\n",
       "      <td>...</td>\n",
       "      <td>...</td>\n",
       "      <td>...</td>\n",
       "      <td>...</td>\n",
       "      <td>...</td>\n",
       "      <td>...</td>\n",
       "      <td>...</td>\n",
       "      <td>...</td>\n",
       "      <td>...</td>\n",
       "      <td>...</td>\n",
       "      <td>...</td>\n",
       "      <td>...</td>\n",
       "      <td>...</td>\n",
       "    </tr>\n",
       "    <tr>\n",
       "      <th>4102</th>\n",
       "      <td>246889.8</td>\n",
       "      <td>0393</td>\n",
       "      <td>8</td>\n",
       "      <td>03 80 61 00 00 00 00 00</td>\n",
       "      <td>03</td>\n",
       "      <td>80</td>\n",
       "      <td>61</td>\n",
       "      <td>00</td>\n",
       "      <td>00</td>\n",
       "      <td>00</td>\n",
       "      <td>00</td>\n",
       "      <td>00</td>\n",
       "      <td>0.3</td>\n",
       "      <td>48.5</td>\n",
       "    </tr>\n",
       "    <tr>\n",
       "      <th>4104</th>\n",
       "      <td>246990.0</td>\n",
       "      <td>0393</td>\n",
       "      <td>8</td>\n",
       "      <td>03 80 61 00 00 00 00 00</td>\n",
       "      <td>03</td>\n",
       "      <td>80</td>\n",
       "      <td>61</td>\n",
       "      <td>00</td>\n",
       "      <td>00</td>\n",
       "      <td>00</td>\n",
       "      <td>00</td>\n",
       "      <td>00</td>\n",
       "      <td>0.2</td>\n",
       "      <td>50.2</td>\n",
       "    </tr>\n",
       "    <tr>\n",
       "      <th>4106</th>\n",
       "      <td>247090.0</td>\n",
       "      <td>0393</td>\n",
       "      <td>8</td>\n",
       "      <td>03 80 61 00 00 00 00 00</td>\n",
       "      <td>03</td>\n",
       "      <td>80</td>\n",
       "      <td>61</td>\n",
       "      <td>00</td>\n",
       "      <td>00</td>\n",
       "      <td>00</td>\n",
       "      <td>00</td>\n",
       "      <td>00</td>\n",
       "      <td>0.3</td>\n",
       "      <td>50.2</td>\n",
       "    </tr>\n",
       "    <tr>\n",
       "      <th>4108</th>\n",
       "      <td>247190.0</td>\n",
       "      <td>0393</td>\n",
       "      <td>8</td>\n",
       "      <td>03 80 61 00 00 00 00 00</td>\n",
       "      <td>03</td>\n",
       "      <td>80</td>\n",
       "      <td>61</td>\n",
       "      <td>00</td>\n",
       "      <td>00</td>\n",
       "      <td>00</td>\n",
       "      <td>00</td>\n",
       "      <td>00</td>\n",
       "      <td>0.3</td>\n",
       "      <td>50.0</td>\n",
       "    </tr>\n",
       "    <tr>\n",
       "      <th>4110</th>\n",
       "      <td>247290.2</td>\n",
       "      <td>0393</td>\n",
       "      <td>8</td>\n",
       "      <td>03 80 61 00 00 00 00 00</td>\n",
       "      <td>03</td>\n",
       "      <td>80</td>\n",
       "      <td>61</td>\n",
       "      <td>00</td>\n",
       "      <td>00</td>\n",
       "      <td>00</td>\n",
       "      <td>00</td>\n",
       "      <td>00</td>\n",
       "      <td>0.2</td>\n",
       "      <td>50.5</td>\n",
       "    </tr>\n",
       "  </tbody>\n",
       "</table>\n",
       "<p>2060 rows × 14 columns</p>\n",
       "</div>"
      ],
      "text/plain": [
       "                Time CAN_ID DLC              Full_Payload One Two Three Four  \\\n",
       "1             85.7     0393   8  03 80 61 00 00 00 00 00   03  80    61   00   \n",
       "3            185.7     0393   8  03 80 61 00 00 00 00 00   03  80    61   00   \n",
       "5            285.4     0393   8  03 80 61 00 00 00 00 00   03  80    61   00   \n",
       "7            385.7     0393   8  03 80 61 00 00 00 00 00   03  80    61   00   \n",
       "9            485.4     0393   8  03 80 61 00 00 00 00 00   03  80    61   00   \n",
       "...              ...    ...  ..                       ...  ..  ..   ...  ...   \n",
       "4102      246889.8     0393   8  03 80 61 00 00 00 00 00   03  80    61   00   \n",
       "4104      246990.0     0393   8  03 80 61 00 00 00 00 00   03  80    61   00   \n",
       "4106      247090.0     0393   8  03 80 61 00 00 00 00 00   03  80    61   00   \n",
       "4108      247190.0     0393   8  03 80 61 00 00 00 00 00   03  80    61   00   \n",
       "4110      247290.2     0393   8  03 80 61 00 00 00 00 00   03  80    61   00   \n",
       "\n",
       "     Five Six Seven Eight Full_Data_Time_Gap  ID_Based_Time_Gap  \n",
       "1      00  00    00   00                 0.2               50.3  \n",
       "3      00  00    00   00                 0.3               50.3  \n",
       "5      00  00    00   00                 1.3               49.5  \n",
       "7      00  00    00   00                 0.3               50.1  \n",
       "9      00  00    00   00                 1.3               50.0  \n",
       "...   ...  ..   ...   ...                ...                ...  \n",
       "4102   00  00    00   00                 0.3               48.5  \n",
       "4104   00  00    00   00                 0.2               50.2  \n",
       "4106   00  00    00   00                 0.3               50.2  \n",
       "4108   00  00    00   00                 0.3               50.0  \n",
       "4110   00  00    00   00                 0.2               50.5  \n",
       "\n",
       "[2060 rows x 14 columns]"
      ]
     },
     "execution_count": 683,
     "metadata": {},
     "output_type": "execute_result"
    }
   ],
   "source": [
    "PID_filter_data"
   ]
  },
  {
   "cell_type": "code",
   "execution_count": 684,
   "id": "76b9af55",
   "metadata": {},
   "outputs": [
    {
     "name": "stderr",
     "output_type": "stream",
     "text": [
      "C:\\Users\\Lisa\\AppData\\Local\\Temp/ipykernel_1944/3900333277.py:5: SettingWithCopyWarning: \n",
      "A value is trying to be set on a copy of a slice from a DataFrame.\n",
      "Try using .loc[row_indexer,col_indexer] = value instead\n",
      "\n",
      "See the caveats in the documentation: https://pandas.pydata.org/pandas-docs/stable/user_guide/indexing.html#returning-a-view-versus-a-copy\n",
      "  PID_filter_data[Which_PID] = PID_filter_data[Which_PID].str.extract(r'(\\d+)')\n"
     ]
    }
   ],
   "source": [
    "#PID Payload Timegap\n",
    "Time_gap_payload = [0]\n",
    "k4 = 1\n",
    "lenth = len(payload_filter_data.Time)-1\n",
    "\n",
    "PID_filter_data[Which_PID] = PID_filter_data[Which_PID].str.extract(r'(\\d+)')\n",
    "\n",
    "for k in strip:\n",
    "    k2 = float(strip[k4]) - float(k)\n",
    "    Time_gap_payload.append(k2)\n",
    "    if k4 >= lenth:\n",
    "        break\n",
    "    k4 = k4 + 1\n",
    "Time_gap_PID = pd.DataFrame(Time_gap_payload, columns = ['Time_gap_PID'])"
   ]
  },
  {
   "cell_type": "code",
   "execution_count": 685,
   "id": "18a3d660",
   "metadata": {},
   "outputs": [
    {
     "data": {
      "text/html": [
       "<div>\n",
       "<style scoped>\n",
       "    .dataframe tbody tr th:only-of-type {\n",
       "        vertical-align: middle;\n",
       "    }\n",
       "\n",
       "    .dataframe tbody tr th {\n",
       "        vertical-align: top;\n",
       "    }\n",
       "\n",
       "    .dataframe thead th {\n",
       "        text-align: right;\n",
       "    }\n",
       "</style>\n",
       "<table border=\"1\" class=\"dataframe\">\n",
       "  <thead>\n",
       "    <tr style=\"text-align: right;\">\n",
       "      <th></th>\n",
       "      <th>Time_gap_PID</th>\n",
       "    </tr>\n",
       "  </thead>\n",
       "  <tbody>\n",
       "    <tr>\n",
       "      <th>0</th>\n",
       "      <td>0.0</td>\n",
       "    </tr>\n",
       "    <tr>\n",
       "      <th>1</th>\n",
       "      <td>400.0</td>\n",
       "    </tr>\n",
       "    <tr>\n",
       "      <th>2</th>\n",
       "      <td>300.0</td>\n",
       "    </tr>\n",
       "    <tr>\n",
       "      <th>3</th>\n",
       "      <td>100.0</td>\n",
       "    </tr>\n",
       "    <tr>\n",
       "      <th>4</th>\n",
       "      <td>800.0</td>\n",
       "    </tr>\n",
       "    <tr>\n",
       "      <th>...</th>\n",
       "      <td>...</td>\n",
       "    </tr>\n",
       "    <tr>\n",
       "      <th>186</th>\n",
       "      <td>500.0</td>\n",
       "    </tr>\n",
       "    <tr>\n",
       "      <th>187</th>\n",
       "      <td>700.0</td>\n",
       "    </tr>\n",
       "    <tr>\n",
       "      <th>188</th>\n",
       "      <td>1101.0</td>\n",
       "    </tr>\n",
       "    <tr>\n",
       "      <th>189</th>\n",
       "      <td>501.0</td>\n",
       "    </tr>\n",
       "    <tr>\n",
       "      <th>190</th>\n",
       "      <td>2498.0</td>\n",
       "    </tr>\n",
       "  </tbody>\n",
       "</table>\n",
       "<p>191 rows × 1 columns</p>\n",
       "</div>"
      ],
      "text/plain": [
       "     Time_gap_PID\n",
       "0             0.0\n",
       "1           400.0\n",
       "2           300.0\n",
       "3           100.0\n",
       "4           800.0\n",
       "..            ...\n",
       "186         500.0\n",
       "187         700.0\n",
       "188        1101.0\n",
       "189         501.0\n",
       "190        2498.0\n",
       "\n",
       "[191 rows x 1 columns]"
      ]
     },
     "execution_count": 685,
     "metadata": {},
     "output_type": "execute_result"
    }
   ],
   "source": [
    "Time_gap_PID"
   ]
  },
  {
   "cell_type": "code",
   "execution_count": 686,
   "id": "c4883d50",
   "metadata": {},
   "outputs": [
    {
     "data": {
      "text/plain": [
       "Text(0.5, 1.0, 'PID According to Time Gap')"
      ]
     },
     "execution_count": 686,
     "metadata": {},
     "output_type": "execute_result"
    },
    {
     "data": {
      "image/png": "[encoded data removed]",
      "text/plain": [
       "<Figure size 864x720 with 1 Axes>"
      ]
     },
     "metadata": {
      "needs_background": "light"
     },
     "output_type": "display_data"
    }
   ],
   "source": [
    "plt.subplots(figsize = (12, 10))\n",
    "plt.plot(Time_gap_PID['Time_gap_PID'])\n",
    "plt.xlabel(\"Data Length\", fontsize=15,  weight='bold')\n",
    "plt.ylabel(\"Time Gap in Miliseconds\", fontsize=15,  weight='bold')\n",
    "plt.title(\"PID According to Time Gap\", fontsize=15,  weight='bold')"
   ]
  },
  {
   "cell_type": "code",
   "execution_count": null,
   "id": "df678354",
   "metadata": {},
   "outputs": [],
   "source": []
  }
 ],
 "metadata": {
  "kernelspec": {
   "display_name": "Python 3 (ipykernel)",
   "language": "python",
   "name": "python3"
  },
  "language_info": {
   "codemirror_mode": {
    "name": "ipython",
    "version": 3
   },
   "file_extension": ".py",
   "mimetype": "text/x-python",
   "name": "python",
   "nbconvert_exporter": "python",
   "pygments_lexer": "ipython3",
   "version": "3.9.7"
  }
 },
 "nbformat": 4,
 "nbformat_minor": 5
}
